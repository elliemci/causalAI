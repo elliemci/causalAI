{
 "cells": [
  {
   "cell_type": "code",
   "execution_count": 6,
   "id": "f4a09a3d-fae6-4ed5-bb6f-391d96a40ba8",
   "metadata": {},
   "outputs": [],
   "source": [
    "import random\n",
    "import torch\n",
    "\n",
    "from pgmpy.factors.discrete import DiscreteFactor\n",
    "from pyro.distributions import Categorical\n",
    "from pyro.distributions import Bernoulli, Poisson, Gamma"
   ]
  },
  {
   "cell_type": "markdown",
   "id": "634a4152-a731-461d-8551-21f4702bc916",
   "metadata": {},
   "source": [
    "## Pseudo-random number generators"
   ]
  },
  {
   "cell_type": "code",
   "execution_count": 7,
   "id": "79ce8f1c-5b6d-47fb-9ecf-f0b16bc04f5d",
   "metadata": {},
   "outputs": [
    {
     "name": "stdout",
     "output_type": "stream",
     "text": [
      "0.052363598850944326\n"
     ]
    }
   ],
   "source": [
    "random.seed(123)\n",
    "\n",
    "# get the same random number when using the same seed\n",
    "print(random.random())"
   ]
  },
  {
   "cell_type": "code",
   "execution_count": 2,
   "id": "e1ba52bf-7372-420a-b74e-cc6828138b9d",
   "metadata": {
    "collapsed": true,
    "jupyter": {
     "outputs_hidden": true
    },
    "tags": []
   },
   "outputs": [
    {
     "data": {
      "text/plain": [
       "\u001b[0;31mInit signature:\u001b[0m  \u001b[0mDiscreteFactor\u001b[0m\u001b[0;34m(\u001b[0m\u001b[0mvariables\u001b[0m\u001b[0;34m,\u001b[0m \u001b[0mcardinality\u001b[0m\u001b[0;34m,\u001b[0m \u001b[0mvalues\u001b[0m\u001b[0;34m,\u001b[0m \u001b[0mstate_names\u001b[0m\u001b[0;34m=\u001b[0m\u001b[0;34m{\u001b[0m\u001b[0;34m}\u001b[0m\u001b[0;34m)\u001b[0m\u001b[0;34m\u001b[0m\u001b[0;34m\u001b[0m\u001b[0m\n",
       "\u001b[0;31mDocstring:\u001b[0m      Base class for DiscreteFactor.\n",
       "\u001b[0;31mInit docstring:\u001b[0m\n",
       "Initialize a `DiscreteFactor` class.\n",
       "\n",
       "Defined above, we have the following mapping from variable\n",
       "assignments to the index of the row vector in the value field:\n",
       "+-----+-----+-----+-------------------+\n",
       "|  x1 |  x2 |  x3 |    phi(x1, x2, x3)|\n",
       "+-----+-----+-----+-------------------+\n",
       "| x1_0| x2_0| x3_0|     phi.value(0)  |\n",
       "+-----+-----+-----+-------------------+\n",
       "| x1_0| x2_0| x3_1|     phi.value(1)  |\n",
       "+-----+-----+-----+-------------------+\n",
       "| x1_0| x2_1| x3_0|     phi.value(2)  |\n",
       "+-----+-----+-----+-------------------+\n",
       "| x1_0| x2_1| x3_1|     phi.value(3)  |\n",
       "+-----+-----+-----+-------------------+\n",
       "| x1_1| x2_0| x3_0|     phi.value(4)  |\n",
       "+-----+-----+-----+-------------------+\n",
       "| x1_1| x2_0| x3_1|     phi.value(5)  |\n",
       "+-----+-----+-----+-------------------+\n",
       "| x1_1| x2_1| x3_0|     phi.value(6)  |\n",
       "+-----+-----+-----+-------------------+\n",
       "| x1_1| x2_1| x3_1|     phi.value(7)  |\n",
       "+-----+-----+-----+-------------------+\n",
       "\n",
       "Parameters\n",
       "----------\n",
       "variables: list, array-like\n",
       "    List of variables on which the factor is to be defined i.e. scope of the factor.\n",
       "\n",
       "cardinality: list, array_like\n",
       "    List of cardinalities/no.of states of each variable. `cardinality`\n",
       "    array must have a value corresponding to each variable in\n",
       "    `variables`.\n",
       "\n",
       "values: list, array_like\n",
       "    List of values of factor.\n",
       "    A DiscreteFactor's values are stored in a row vector in the value\n",
       "    using an ordering such that the left-most variables as defined in\n",
       "    `variables` cycle through their values the fastest. Please refer\n",
       "    to examples for usage examples.\n",
       "\n",
       "Examples\n",
       "--------\n",
       ">>> import numpy as np\n",
       ">>> from pgmpy.factors.discrete import DiscreteFactor\n",
       ">>> phi = DiscreteFactor(['x1', 'x2', 'x3'], [2, 2, 2], np.ones(8))\n",
       ">>> phi\n",
       "<DiscreteFactor representing phi(x1:2, x2:2, x3:2) at 0x7f8188fcaa90>\n",
       ">>> print(phi)\n",
       "+------+------+------+-----------------+\n",
       "| x1   | x2   | x3   |   phi(x1,x2,x3) |\n",
       "|------+------+------+-----------------|\n",
       "| x1_0 | x2_0 | x3_0 |          1.0000 |\n",
       "| x1_0 | x2_0 | x3_1 |          1.0000 |\n",
       "| x1_0 | x2_1 | x3_0 |          1.0000 |\n",
       "| x1_0 | x2_1 | x3_1 |          1.0000 |\n",
       "| x1_1 | x2_0 | x3_0 |          1.0000 |\n",
       "| x1_1 | x2_0 | x3_1 |          1.0000 |\n",
       "| x1_1 | x2_1 | x3_0 |          1.0000 |\n",
       "| x1_1 | x2_1 | x3_1 |          1.0000 |\n",
       "+------+------+------+-----------------+\n",
       "\u001b[0;31mFile:\u001b[0m           ~/miniconda3/envs/py310/lib/python3.10/site-packages/pgmpy/factors/discrete/DiscreteFactor.py\n",
       "\u001b[0;31mType:\u001b[0m           type\n",
       "\u001b[0;31mSubclasses:\u001b[0m     TabularCPD, JointProbabilityDistribution"
      ]
     },
     "metadata": {},
     "output_type": "display_data"
    }
   ],
   "source": [
    "? DiscreteFactor"
   ]
  },
  {
   "cell_type": "code",
   "execution_count": 8,
   "id": "36af0034-44fa-4c70-970a-326daa67a9e5",
   "metadata": {},
   "outputs": [
    {
     "data": {
      "text/html": [
       "<div>\n",
       "<style scoped>\n",
       "    .dataframe tbody tr th:only-of-type {\n",
       "        vertical-align: middle;\n",
       "    }\n",
       "\n",
       "    .dataframe tbody tr th {\n",
       "        vertical-align: top;\n",
       "    }\n",
       "\n",
       "    .dataframe thead th {\n",
       "        text-align: right;\n",
       "    }\n",
       "</style>\n",
       "<table border=\"1\" class=\"dataframe\">\n",
       "  <thead>\n",
       "    <tr style=\"text-align: right;\">\n",
       "      <th></th>\n",
       "      <th>X</th>\n",
       "    </tr>\n",
       "  </thead>\n",
       "  <tbody>\n",
       "    <tr>\n",
       "      <th>0</th>\n",
       "      <td>1</td>\n",
       "    </tr>\n",
       "  </tbody>\n",
       "</table>\n",
       "</div>"
      ],
      "text/plain": [
       "   X\n",
       "0  1"
      ]
     },
     "execution_count": 8,
     "metadata": {},
     "output_type": "execute_result"
    }
   ],
   "source": [
    "# random generation of P(x) into a Pandas DataFrame\n",
    "dist = DiscreteFactor(\n",
    "    variables=[\"X\"],\n",
    "    cardinality=[3],\n",
    "    values=[.45, .30, .25],\n",
    "    state_names= {'X': ['1', '2', '3']}\n",
    ")\n",
    "\n",
    "# n=numbber of samples\n",
    "dist.sample(n=1)"
   ]
  },
  {
   "cell_type": "code",
   "execution_count": 9,
   "id": "82f06aa2-7897-4821-add4-e8709d1882e3",
   "metadata": {},
   "outputs": [
    {
     "data": {
      "text/html": [
       "<div>\n",
       "<style scoped>\n",
       "    .dataframe tbody tr th:only-of-type {\n",
       "        vertical-align: middle;\n",
       "    }\n",
       "\n",
       "    .dataframe tbody tr th {\n",
       "        vertical-align: top;\n",
       "    }\n",
       "\n",
       "    .dataframe thead th {\n",
       "        text-align: right;\n",
       "    }\n",
       "</style>\n",
       "<table border=\"1\" class=\"dataframe\">\n",
       "  <thead>\n",
       "    <tr style=\"text-align: right;\">\n",
       "      <th></th>\n",
       "      <th>X</th>\n",
       "      <th>Y</th>\n",
       "    </tr>\n",
       "  </thead>\n",
       "  <tbody>\n",
       "    <tr>\n",
       "      <th>0</th>\n",
       "      <td>3</td>\n",
       "      <td>0</td>\n",
       "    </tr>\n",
       "  </tbody>\n",
       "</table>\n",
       "</div>"
      ],
      "text/plain": [
       "   X  Y\n",
       "0  3  0"
      ]
     },
     "execution_count": 9,
     "metadata": {},
     "output_type": "execute_result"
    }
   ],
   "source": [
    "# random sample of joint distribution\n",
    "joint = DiscreteFactor(\n",
    "    variables=['X', 'Y'],\n",
    "    cardinality=[3, 2],\n",
    "    values=[.25, .20, .20, .10, .15, .10],\n",
    "    state_names= {'X': ['1', '2', '3'],\n",
    "                  'Y': ['0', '1']})\n",
    " \n",
    "joint.sample(n=1)"
   ]
  },
  {
   "cell_type": "markdown",
   "id": "55307d3f-1d16-4194-be9f-b7c2df7a9e72",
   "metadata": {},
   "source": [
    "## Canonical Distributions with pyro"
   ]
  },
  {
   "cell_type": "code",
   "execution_count": 10,
   "id": "37c24c62-4af3-4073-9f2e-89c08210635a",
   "metadata": {},
   "outputs": [],
   "source": [
    "# generates a random variables with sample() with conditional dependencies\n",
    "z = Gamma(7.5, 1.0).sample()\n",
    "x = Poisson(z).sample()\n",
    "y = Bernoulli(x / (5+x)).sample()"
   ]
  },
  {
   "cell_type": "code",
   "execution_count": 11,
   "id": "e5a3c580-45b4-4b97-af21-d8e9d633c416",
   "metadata": {},
   "outputs": [
    {
     "data": {
      "text/plain": [
       "tensor(3.8356)"
      ]
     },
     "execution_count": 11,
     "metadata": {},
     "output_type": "execute_result"
    }
   ],
   "source": [
    "# z independent, x dependent on z, y dependent on x\n",
    "z"
   ]
  },
  {
   "cell_type": "code",
   "execution_count": 12,
   "id": "3a4a74aa-182a-4d5e-a112-2d9b01129147",
   "metadata": {},
   "outputs": [
    {
     "data": {
      "text/plain": [
       "tensor(2.)"
      ]
     },
     "execution_count": 12,
     "metadata": {},
     "output_type": "execute_result"
    }
   ],
   "source": [
    "# can define y as dependent on x - the sum of x individual random components\n",
    "y = torch.tensor(0.0)\n",
    "for i in range(int(x)):\n",
    "    y += Bernoulli(.5).sample()\n",
    "    \n",
    "y"
   ]
  },
  {
   "cell_type": "code",
   "execution_count": 21,
   "id": "707ddd73-d6df-4212-984b-60aae05cde58",
   "metadata": {},
   "outputs": [],
   "source": [
    "import pyro\n",
    "\n",
    "# BEST PRACTICE!\n",
    "# implement random processes as functions, using pyro.sample() to generate a sample\n",
    "def random_process():\n",
    "    \"\"\" Function which implements random process. \"\"\"\n",
    "    \n",
    "    # pyro.sample assigns a name to the variable being sampled\n",
    "    z = pyro.sample(\"z\", Gamma(7.5, 1.0))\n",
    "    x = pyro.sample(\"x\", Poisson(z))\n",
    "    y = torch.tensor(0.0)\n",
    "    for i in range(int(x)):\n",
    "        y += pyro.sample(f\"y{i}\", Bernoulli(.5))\n",
    "    return z, y"
   ]
  },
  {
   "cell_type": "code",
   "execution_count": 22,
   "id": "7f5fec2e-0cb2-4d16-bced-263dfdea867e",
   "metadata": {},
   "outputs": [
    {
     "data": {
      "text/plain": [
       "(tensor(7.7015), tensor(7.))"
      ]
     },
     "execution_count": 22,
     "metadata": {},
     "output_type": "execute_result"
    }
   ],
   "source": [
    "random_process()"
   ]
  },
  {
   "cell_type": "code",
   "execution_count": 23,
   "id": "ceb523bb-57ba-4c6d-9900-4089a1c87330",
   "metadata": {},
   "outputs": [
    {
     "name": "stdout",
     "output_type": "stream",
     "text": [
      "tensor(3.8356) tensor(2.) tensor(2.)\n"
     ]
    }
   ],
   "source": [
    "print(z, x, y)"
   ]
  },
  {
   "cell_type": "markdown",
   "id": "cf8e7fc0-45ba-42ff-990b-9b8ee2791f5c",
   "metadata": {},
   "source": [
    "## Monte Carlo Simulation"
   ]
  },
  {
   "cell_type": "markdown",
   "id": "7ebf8df8-d76b-45c2-8e4e-1d9089dfd9f8",
   "metadata": {},
   "source": [
    "### pgmy"
   ]
  },
  {
   "cell_type": "code",
   "execution_count": 35,
   "id": "48b23a12-01f3-4eba-b599-c252567282ec",
   "metadata": {},
   "outputs": [
    {
     "name": "stderr",
     "output_type": "stream",
     "text": [
      "Generating for node: Y: 100%|███████████████████████████████████████████████████████████| 3/3 [00:00<00:00, 77.70it/s]\n"
     ]
    },
    {
     "data": {
      "text/html": [
       "<div>\n",
       "<style scoped>\n",
       "    .dataframe tbody tr th:only-of-type {\n",
       "        vertical-align: middle;\n",
       "    }\n",
       "\n",
       "    .dataframe tbody tr th {\n",
       "        vertical-align: top;\n",
       "    }\n",
       "\n",
       "    .dataframe thead th {\n",
       "        text-align: right;\n",
       "    }\n",
       "</style>\n",
       "<table border=\"1\" class=\"dataframe\">\n",
       "  <thead>\n",
       "    <tr style=\"text-align: right;\">\n",
       "      <th></th>\n",
       "      <th>Z</th>\n",
       "      <th>X</th>\n",
       "      <th>Y</th>\n",
       "    </tr>\n",
       "  </thead>\n",
       "  <tbody>\n",
       "    <tr>\n",
       "      <th>0</th>\n",
       "      <td>0</td>\n",
       "      <td>0</td>\n",
       "      <td>3</td>\n",
       "    </tr>\n",
       "  </tbody>\n",
       "</table>\n",
       "</div>"
      ],
      "text/plain": [
       "   Z  X  Y\n",
       "0  0  0  3"
      ]
     },
     "execution_count": 35,
     "metadata": {},
     "output_type": "execute_result"
    }
   ],
   "source": [
    "# generate a tuple {x, y, z} from the joint distribution P(X, Y, Z):\n",
    "# generate a Z-outcome z from P(Z), then condition X on that z, \n",
    "# and generate an X-outcome x, condition Y-outcome y on x\n",
    "\n",
    "from pgmpy.factors.discrete.CPD import TabularCPD\n",
    "from pgmpy.models import BayesianNetwork\n",
    "from pgmpy.sampling import BayesianModelSampling\n",
    " \n",
    "PZ = TabularCPD(\n",
    "    variable='Z',\n",
    "    variable_card=2,\n",
    "    values=[[.65], [.35]],\n",
    "    state_names = {\n",
    "        'Z': ['0', '1']\n",
    "    })\n",
    " \n",
    "PXgivenZ = TabularCPD(\n",
    "    variable='X',\n",
    "    variable_card=2,\n",
    "    values=[\n",
    "        [.8, .6],\n",
    "        [.2, .4],\n",
    "    ],\n",
    "    evidence=['Z'],\n",
    "    evidence_card=[2],\n",
    "    state_names = {\n",
    "        'X': ['0', '1'],\n",
    "        'Z': ['0', '1']\n",
    "    })\n",
    " \n",
    "PYgivenX = TabularCPD(\n",
    "    variable='Y',\n",
    "    variable_card=3,\n",
    "    values=[\n",
    "        [.1, .8],\n",
    "        [.2, .1],\n",
    "        [.7, .1],\n",
    "    ],\n",
    "    evidence=['X'],\n",
    "    evidence_card=[2],\n",
    "    state_names = {\n",
    "        'Y': ['1', '2', '3'],\n",
    "        'X': ['0', '1']\n",
    "    })\n",
    "\n",
    "# create a random process using pgmpy random process class BBayesianNetwork\n",
    "model = BayesianNetwork([('Z', 'X'), ('X', 'Y')])\n",
    "model.add_cpds(PZ, PXgivenZ, PYgivenX)\n",
    " \n",
    "generator = BayesianModelSampling(model)\n",
    "generator.forward_sample(size=1)\n",
    " "
   ]
  },
  {
   "cell_type": "code",
   "execution_count": 36,
   "id": "ba68b59a-6f21-4123-9922-d5cea2ce40bb",
   "metadata": {},
   "outputs": [
    {
     "name": "stderr",
     "output_type": "stream",
     "text": [
      "Generating for node: Y: 100%|██████████████████████████████████████████████████████████| 3/3 [00:00<00:00, 130.92it/s]\n"
     ]
    },
    {
     "data": {
      "text/plain": [
       "2.43"
      ]
     },
     "execution_count": 36,
     "metadata": {},
     "output_type": "execute_result"
    }
   ],
   "source": [
    "# generate a tuple {x, y, z} from the joint distribution P(X, Y, Z) with forward_sample() into pandas df\n",
    "generated_samples = generator.forward_sample(size=100)\n",
    "# take the average as expected value\n",
    "generated_samples['Y'].apply(int).mean()"
   ]
  },
  {
   "cell_type": "code",
   "execution_count": 38,
   "id": "55780aaa-5ea6-4471-bea9-eef52c06a73a",
   "metadata": {},
   "outputs": [
    {
     "data": {
      "text/html": [
       "<div>\n",
       "<style scoped>\n",
       "    .dataframe tbody tr th:only-of-type {\n",
       "        vertical-align: middle;\n",
       "    }\n",
       "\n",
       "    .dataframe tbody tr th {\n",
       "        vertical-align: top;\n",
       "    }\n",
       "\n",
       "    .dataframe thead th {\n",
       "        text-align: right;\n",
       "    }\n",
       "</style>\n",
       "<table border=\"1\" class=\"dataframe\">\n",
       "  <thead>\n",
       "    <tr style=\"text-align: right;\">\n",
       "      <th></th>\n",
       "      <th>Z</th>\n",
       "      <th>X</th>\n",
       "      <th>Y</th>\n",
       "    </tr>\n",
       "  </thead>\n",
       "  <tbody>\n",
       "    <tr>\n",
       "      <th>0</th>\n",
       "      <td>1</td>\n",
       "      <td>0</td>\n",
       "      <td>3</td>\n",
       "    </tr>\n",
       "    <tr>\n",
       "      <th>1</th>\n",
       "      <td>0</td>\n",
       "      <td>0</td>\n",
       "      <td>3</td>\n",
       "    </tr>\n",
       "    <tr>\n",
       "      <th>2</th>\n",
       "      <td>0</td>\n",
       "      <td>0</td>\n",
       "      <td>3</td>\n",
       "    </tr>\n",
       "    <tr>\n",
       "      <th>3</th>\n",
       "      <td>1</td>\n",
       "      <td>1</td>\n",
       "      <td>1</td>\n",
       "    </tr>\n",
       "    <tr>\n",
       "      <th>4</th>\n",
       "      <td>0</td>\n",
       "      <td>0</td>\n",
       "      <td>3</td>\n",
       "    </tr>\n",
       "  </tbody>\n",
       "</table>\n",
       "</div>"
      ],
      "text/plain": [
       "   Z  X  Y\n",
       "0  1  0  3\n",
       "1  0  0  3\n",
       "2  0  0  3\n",
       "3  1  1  1\n",
       "4  0  0  3"
      ]
     },
     "execution_count": 38,
     "metadata": {},
     "output_type": "execute_result"
    }
   ],
   "source": [
    "generated_samples.head()"
   ]
  },
  {
   "cell_type": "markdown",
   "id": "61811623-bec8-4112-9eeb-83ccfc40b75f",
   "metadata": {},
   "source": [
    "### pyro"
   ]
  },
  {
   "cell_type": "code",
   "execution_count": 39,
   "id": "40dee573-d587-4e0f-a7eb-7129d69f7b76",
   "metadata": {},
   "outputs": [],
   "source": [
    "# call random process generator function in a list comprehension\n",
    "# pyro extends PyTorch, the value of y it returns is a tensor \n",
    "# use torch.stack to turn this list of tensors into a single tensor\n",
    "generated_samples = torch.stack([random_process() for _ in range(100)])\n",
    "type(generated_samples)"
   ]
  },
  {
   "cell_type": "code",
   "execution_count": 41,
   "id": "c660d690-b199-4149-b478-355640568f68",
   "metadata": {},
   "outputs": [
    {
     "data": {
      "text/plain": [
       "tensor(4.2400)"
      ]
     },
     "execution_count": 41,
     "metadata": {},
     "output_type": "execute_result"
    }
   ],
   "source": [
    "# call the mean method on the tensor, to obtain the Monte Carlo estimate of E(Y)\n",
    "generated_samples.mean()"
   ]
  },
  {
   "cell_type": "markdown",
   "id": "226efd66-5c92-448a-a082-6cfdae303af6",
   "metadata": {},
   "source": [
    "## Probabilistic Inference"
   ]
  },
  {
   "cell_type": "markdown",
   "id": "ce6d1e31-8f5a-48f7-93f8-f83aa5f05f86",
   "metadata": {},
   "source": [
    "Given a random process that generates an outcome {x, y, z} from P(X, Y, Z) such that <br>\n",
    "> *z ~ P(Z)* <br>\n",
    "  *x ~ P(X | Z=z)* <br>\n",
    "  *y ~ P(Y | X=x)* <br> \n",
    "  \n",
    "Generate *P(Z | Y=3)* <br>\n",
    "The random_process() can sample from *P(Z), P(X|Z)* and *P(Y|Z)* but need Bayes Rule to go from *P(Y|Z)* to *P(Z|Y)* <br><br>\n",
    "**Probabilistic Inference Algorithm** <br>\n",
    "1. Pepeatedly. generate {x, y, z} using *P(X, Y, Z)\n",
    "2. Throw away any generated outcome where y different than 3\n",
    "3. The resulting set of outcomes with have distribution P(Z | Y=3)"
   ]
  },
  {
   "cell_type": "code",
   "execution_count": 26,
   "id": "8d9cf733-ac08-4372-b744-9632d2fde4d8",
   "metadata": {},
   "outputs": [
    {
     "name": "stdout",
     "output_type": "stream",
     "text": [
      "generated 1000 random z's\n",
      "Monte Carlo Estimate for z: tensor(7.5054)\n"
     ]
    }
   ],
   "source": [
    "# Generate 1000 instances of z and y using a list comprehension\n",
    "generated_samples = [ random_process() for _ in range(1000)]\n",
    "print(\"generated\", len(generated_samples), \"random tuples (y, z)'s\")\n",
    "\n",
    "# to view the first tensor in the first list element tuple\n",
    "print(\"first generated y tensor:\", generated_samples[0][0].view(1))\n",
    "\n",
    "# Turn the individual z tensors into a single tensor and calculate Monte Carlo Esitmate their mean\n",
    "z_mean = torch.stack([ z for z, _ in generated_samples]).mean()\n",
    "print(\"Monte Carlo E(Z):\", z_mean) "
   ]
  },
  {
   "cell_type": "markdown",
   "id": "013f5bba-9df6-4da0-b240-a1772f64414b",
   "metadata": {},
   "source": [
    "Since Z has a Gamma distribution, the true mean E(Z) is the shape parameter 7.5 divided by the rate parameter 1.0, which is 7.5 .<br>\n",
    "To estimate E(Z|Y=3) sample generated_samples and keep only the samples with Y=3"
   ]
  },
  {
   "cell_type": "code",
   "execution_count": 34,
   "id": "6dc243fd-d91c-43fb-a518-b387c162b349",
   "metadata": {},
   "outputs": [
    {
     "name": "stdout",
     "output_type": "stream",
     "text": [
      "Monte Carlo Estimate of E(Z|Y=3) tensor(7.1054)\n"
     ]
    }
   ],
   "source": [
    "z_given_y = torch.stack([z for z, y in generated_samples if y == 3])\n",
    "print(\"Monte Carlo Estimate of E(Z|Y=3): \", z_given_y.mean())"
   ]
  },
  {
   "cell_type": "code",
   "execution_count": null,
   "id": "11bdd2b3-3b07-4a84-8a75-886fe1161549",
   "metadata": {},
   "outputs": [],
   "source": []
  },
  {
   "cell_type": "code",
   "execution_count": null,
   "id": "d54a8480-a1c4-46a8-8cb7-9b701f1b2003",
   "metadata": {},
   "outputs": [],
   "source": []
  },
  {
   "cell_type": "code",
   "execution_count": null,
   "id": "018461c7-3fbb-4f32-8779-30eaeece70f5",
   "metadata": {},
   "outputs": [],
   "source": []
  }
 ],
 "metadata": {
  "kernelspec": {
   "display_name": "Python 3 (ipykernel)",
   "language": "python",
   "name": "python3"
  },
  "language_info": {
   "codemirror_mode": {
    "name": "ipython",
    "version": 3
   },
   "file_extension": ".py",
   "mimetype": "text/x-python",
   "name": "python",
   "nbconvert_exporter": "python",
   "pygments_lexer": "ipython3",
   "version": "3.10.11"
  }
 },
 "nbformat": 4,
 "nbformat_minor": 5
}
